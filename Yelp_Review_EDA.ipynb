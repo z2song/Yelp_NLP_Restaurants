{
  "nbformat": 4,
  "nbformat_minor": 0,
  "metadata": {
    "colab": {
      "name": "Yelp Review EDA.ipynb",
      "provenance": [],
      "collapsed_sections": [],
      "include_colab_link": true
    },
    "kernelspec": {
      "name": "python3",
      "display_name": "Python 3"
    }
  },
  "cells": [
    {
      "cell_type": "markdown",
      "metadata": {
        "id": "view-in-github",
        "colab_type": "text"
      },
      "source": [
        "<a href=\"https://colab.research.google.com/github/kristienguyen100/Yelp_NLP_Restaurants/blob/gh-pages/Yelp_Review_EDA.ipynb\" target=\"_parent\"><img src=\"https://colab.research.google.com/assets/colab-badge.svg\" alt=\"Open In Colab\"/></a>"
      ]
    },
    {
      "cell_type": "code",
      "metadata": {
        "id": "v1yTSILNsnQl"
      },
      "source": [
        "import numpy as np\n",
        "import pandas as pd\n",
        "import matplotlib.pyplot as plt\n",
        "import seaborn as sns\n",
        "\n",
        "!pip install -U -q PyDrive \n",
        "  \n",
        "from pydrive.auth import GoogleAuth \n",
        "from pydrive.drive import GoogleDrive \n",
        "from google.colab import auth \n",
        "from oauth2client.client import GoogleCredentials "
      ],
      "execution_count": null,
      "outputs": []
    },
    {
      "cell_type": "markdown",
      "metadata": {
        "id": "m7R9vd5GVnep"
      },
      "source": [
        "## **Load the Data**"
      ]
    },
    {
      "cell_type": "code",
      "metadata": {
        "id": "UoNcBYXxDQoV"
      },
      "source": [
        "auth.authenticate_user() \n",
        "gauth = GoogleAuth() \n",
        "gauth.credentials = GoogleCredentials.get_application_default() \n",
        "drive = GoogleDrive(gauth)"
      ],
      "execution_count": null,
      "outputs": []
    },
    {
      "cell_type": "code",
      "metadata": {
        "id": "fx1KLR-lAMG2"
      },
      "source": [
        "link = 'https://drive.google.com/file/d/1K_obpn0lcDoW0pdEpyfunJ14-h0cM4XM/view?usp=sharing'\n",
        "  \n",
        "id = link.split(\"/\")[-2] \n",
        "  \n",
        "downloaded = drive.CreateFile({'id':id})  \n",
        "downloaded.GetContentFile('yelp_business.csv')   "
      ],
      "execution_count": null,
      "outputs": []
    },
    {
      "cell_type": "code",
      "metadata": {
        "id": "lKoqvpCCspu-",
        "colab": {
          "base_uri": "https://localhost:8080/",
          "height": 204
        },
        "outputId": "43cd1d24-6d9c-4f7f-a176-6b8f30eeb02d"
      },
      "source": [
        "data = pd.read_csv('yelp_business.csv') \n",
        "data.head()"
      ],
      "execution_count": null,
      "outputs": [
        {
          "output_type": "execute_result",
          "data": {
            "text/html": [
              "<div>\n",
              "<style scoped>\n",
              "    .dataframe tbody tr th:only-of-type {\n",
              "        vertical-align: middle;\n",
              "    }\n",
              "\n",
              "    .dataframe tbody tr th {\n",
              "        vertical-align: top;\n",
              "    }\n",
              "\n",
              "    .dataframe thead th {\n",
              "        text-align: right;\n",
              "    }\n",
              "</style>\n",
              "<table border=\"1\" class=\"dataframe\">\n",
              "  <thead>\n",
              "    <tr style=\"text-align: right;\">\n",
              "      <th></th>\n",
              "      <th>business_id</th>\n",
              "      <th>name</th>\n",
              "      <th>city</th>\n",
              "      <th>state</th>\n",
              "      <th>stars</th>\n",
              "      <th>review_count</th>\n",
              "      <th>categories</th>\n",
              "    </tr>\n",
              "  </thead>\n",
              "  <tbody>\n",
              "    <tr>\n",
              "      <th>0</th>\n",
              "      <td>pQeaRpvuhoEqudo3uymHIQ</td>\n",
              "      <td>The Empanadas House</td>\n",
              "      <td>Champaign</td>\n",
              "      <td>IL</td>\n",
              "      <td>4.5</td>\n",
              "      <td>5</td>\n",
              "      <td>Ethnic Food, Food Trucks, Specialty Food, Impo...</td>\n",
              "    </tr>\n",
              "    <tr>\n",
              "      <th>1</th>\n",
              "      <td>eBEfgOPG7pvFhb2wcG9I7w</td>\n",
              "      <td>Philthy Phillys</td>\n",
              "      <td>Aurora</td>\n",
              "      <td>ON</td>\n",
              "      <td>4.5</td>\n",
              "      <td>4</td>\n",
              "      <td>Restaurants, Cheesesteaks, Poutineries</td>\n",
              "    </tr>\n",
              "    <tr>\n",
              "      <th>2</th>\n",
              "      <td>lu7vtrp_bE9PnxWfA8g4Pg</td>\n",
              "      <td>Banzai Sushi</td>\n",
              "      <td>Thornhill</td>\n",
              "      <td>ON</td>\n",
              "      <td>4.5</td>\n",
              "      <td>7</td>\n",
              "      <td>Japanese, Fast Food, Food Court, Restaurants</td>\n",
              "    </tr>\n",
              "    <tr>\n",
              "      <th>3</th>\n",
              "      <td>9sRGfSVEfLhN_km60YruTA</td>\n",
              "      <td>Apadana Restaurant</td>\n",
              "      <td>Richmond Hill</td>\n",
              "      <td>ON</td>\n",
              "      <td>3.0</td>\n",
              "      <td>3</td>\n",
              "      <td>Persian/Iranian, Turkish, Middle Eastern, Rest...</td>\n",
              "    </tr>\n",
              "    <tr>\n",
              "      <th>4</th>\n",
              "      <td>vjTVxnsQEZ34XjYNS-XUpA</td>\n",
              "      <td>Wetzel's Pretzels</td>\n",
              "      <td>Phoenix</td>\n",
              "      <td>AZ</td>\n",
              "      <td>4.0</td>\n",
              "      <td>10</td>\n",
              "      <td>Food, Pretzels, Bakeries, Fast Food, Restaurants</td>\n",
              "    </tr>\n",
              "  </tbody>\n",
              "</table>\n",
              "</div>"
            ],
            "text/plain": [
              "              business_id  ...                                         categories\n",
              "0  pQeaRpvuhoEqudo3uymHIQ  ...  Ethnic Food, Food Trucks, Specialty Food, Impo...\n",
              "1  eBEfgOPG7pvFhb2wcG9I7w  ...             Restaurants, Cheesesteaks, Poutineries\n",
              "2  lu7vtrp_bE9PnxWfA8g4Pg  ...       Japanese, Fast Food, Food Court, Restaurants\n",
              "3  9sRGfSVEfLhN_km60YruTA  ...  Persian/Iranian, Turkish, Middle Eastern, Rest...\n",
              "4  vjTVxnsQEZ34XjYNS-XUpA  ...   Food, Pretzels, Bakeries, Fast Food, Restaurants\n",
              "\n",
              "[5 rows x 7 columns]"
            ]
          },
          "metadata": {
            "tags": []
          },
          "execution_count": 5
        }
      ]
    },
    {
      "cell_type": "code",
      "metadata": {
        "id": "9Z7nabyAsRF5"
      },
      "source": [
        "new_link = 'https://drive.google.com/file/d/1_WxBh1KHMfo1CQTYhKaLybAnRrZY9E14/view?usp=sharing'\n",
        "  \n",
        "id = new_link.split(\"/\")[-2] \n",
        "  \n",
        "downloaded = drive.CreateFile({'id':id})  \n",
        "downloaded.GetContentFile('yelp_business_review_data.csv')  "
      ],
      "execution_count": null,
      "outputs": []
    },
    {
      "cell_type": "code",
      "metadata": {
        "id": "PYDwo6-rreG7",
        "colab": {
          "base_uri": "https://localhost:8080/",
          "height": 374
        },
        "outputId": "e2a1128f-0377-4880-dda7-a8ec2f228473"
      },
      "source": [
        "#yelp df with reviews \n",
        "new_yelp_df =  pd.read_csv('yelp_business_review_data.csv') \n",
        "new_yelp_df.head()"
      ],
      "execution_count": null,
      "outputs": [
        {
          "output_type": "execute_result",
          "data": {
            "text/html": [
              "<div>\n",
              "<style scoped>\n",
              "    .dataframe tbody tr th:only-of-type {\n",
              "        vertical-align: middle;\n",
              "    }\n",
              "\n",
              "    .dataframe tbody tr th {\n",
              "        vertical-align: top;\n",
              "    }\n",
              "\n",
              "    .dataframe thead th {\n",
              "        text-align: right;\n",
              "    }\n",
              "</style>\n",
              "<table border=\"1\" class=\"dataframe\">\n",
              "  <thead>\n",
              "    <tr style=\"text-align: right;\">\n",
              "      <th></th>\n",
              "      <th>business_id</th>\n",
              "      <th>name</th>\n",
              "      <th>city</th>\n",
              "      <th>state</th>\n",
              "      <th>stars</th>\n",
              "      <th>review_count</th>\n",
              "      <th>categories</th>\n",
              "      <th>review_id</th>\n",
              "      <th>review_stars</th>\n",
              "      <th>useful</th>\n",
              "      <th>funny</th>\n",
              "      <th>cool</th>\n",
              "      <th>text</th>\n",
              "      <th>date</th>\n",
              "    </tr>\n",
              "  </thead>\n",
              "  <tbody>\n",
              "    <tr>\n",
              "      <th>0</th>\n",
              "      <td>bPBZEDuHbE-I7bxUWIYMhQ</td>\n",
              "      <td>Oishii Sushi</td>\n",
              "      <td>Calgary</td>\n",
              "      <td>AB</td>\n",
              "      <td>3.0</td>\n",
              "      <td>91</td>\n",
              "      <td>Japanese, Restaurants, Sushi Bars</td>\n",
              "      <td>rFfxQEA9wCmRYyqDSv1ecQ</td>\n",
              "      <td>4</td>\n",
              "      <td>0</td>\n",
              "      <td>1</td>\n",
              "      <td>0</td>\n",
              "      <td>Went here for all you can eat sushi dinner! Bo...</td>\n",
              "      <td>2017-11-11 19:16:19</td>\n",
              "    </tr>\n",
              "    <tr>\n",
              "      <th>1</th>\n",
              "      <td>bPBZEDuHbE-I7bxUWIYMhQ</td>\n",
              "      <td>Oishii Sushi</td>\n",
              "      <td>Calgary</td>\n",
              "      <td>AB</td>\n",
              "      <td>3.0</td>\n",
              "      <td>91</td>\n",
              "      <td>Japanese, Restaurants, Sushi Bars</td>\n",
              "      <td>MccdpC7TvFCTKO5Pdx37PA</td>\n",
              "      <td>1</td>\n",
              "      <td>1</td>\n",
              "      <td>1</td>\n",
              "      <td>0</td>\n",
              "      <td>The service was okay when it was present. The ...</td>\n",
              "      <td>2016-02-27 08:03:55</td>\n",
              "    </tr>\n",
              "    <tr>\n",
              "      <th>2</th>\n",
              "      <td>bPBZEDuHbE-I7bxUWIYMhQ</td>\n",
              "      <td>Oishii Sushi</td>\n",
              "      <td>Calgary</td>\n",
              "      <td>AB</td>\n",
              "      <td>3.0</td>\n",
              "      <td>91</td>\n",
              "      <td>Japanese, Restaurants, Sushi Bars</td>\n",
              "      <td>OS_uA1Dm7iV4NLGcgtZ9qw</td>\n",
              "      <td>5</td>\n",
              "      <td>0</td>\n",
              "      <td>0</td>\n",
              "      <td>1</td>\n",
              "      <td>Went here on the weekend for lunch and food/se...</td>\n",
              "      <td>2015-11-09 23:03:17</td>\n",
              "    </tr>\n",
              "    <tr>\n",
              "      <th>3</th>\n",
              "      <td>bPBZEDuHbE-I7bxUWIYMhQ</td>\n",
              "      <td>Oishii Sushi</td>\n",
              "      <td>Calgary</td>\n",
              "      <td>AB</td>\n",
              "      <td>3.0</td>\n",
              "      <td>91</td>\n",
              "      <td>Japanese, Restaurants, Sushi Bars</td>\n",
              "      <td>q37oYWTdZmXC8Z26nTR87Q</td>\n",
              "      <td>5</td>\n",
              "      <td>0</td>\n",
              "      <td>0</td>\n",
              "      <td>0</td>\n",
              "      <td>I've eaten here twice now and I'm really impre...</td>\n",
              "      <td>2017-07-12 16:52:23</td>\n",
              "    </tr>\n",
              "    <tr>\n",
              "      <th>4</th>\n",
              "      <td>bPBZEDuHbE-I7bxUWIYMhQ</td>\n",
              "      <td>Oishii Sushi</td>\n",
              "      <td>Calgary</td>\n",
              "      <td>AB</td>\n",
              "      <td>3.0</td>\n",
              "      <td>91</td>\n",
              "      <td>Japanese, Restaurants, Sushi Bars</td>\n",
              "      <td>5w3lP3O8ZUO9kOTfQFi8pQ</td>\n",
              "      <td>1</td>\n",
              "      <td>1</td>\n",
              "      <td>1</td>\n",
              "      <td>1</td>\n",
              "      <td>Not good for groups.\\n We came here tonight fo...</td>\n",
              "      <td>2016-04-04 05:57:54</td>\n",
              "    </tr>\n",
              "  </tbody>\n",
              "</table>\n",
              "</div>"
            ],
            "text/plain": [
              "              business_id  ...                 date\n",
              "0  bPBZEDuHbE-I7bxUWIYMhQ  ...  2017-11-11 19:16:19\n",
              "1  bPBZEDuHbE-I7bxUWIYMhQ  ...  2016-02-27 08:03:55\n",
              "2  bPBZEDuHbE-I7bxUWIYMhQ  ...  2015-11-09 23:03:17\n",
              "3  bPBZEDuHbE-I7bxUWIYMhQ  ...  2017-07-12 16:52:23\n",
              "4  bPBZEDuHbE-I7bxUWIYMhQ  ...  2016-04-04 05:57:54\n",
              "\n",
              "[5 rows x 14 columns]"
            ]
          },
          "metadata": {
            "tags": []
          },
          "execution_count": 7
        }
      ]
    },
    {
      "cell_type": "code",
      "metadata": {
        "id": "Iu1wWqYgNA3Z",
        "colab": {
          "base_uri": "https://localhost:8080/"
        },
        "outputId": "377f44c3-4c93-4813-8595-41f73ff757dc"
      },
      "source": [
        "new_yelp_df.shape"
      ],
      "execution_count": null,
      "outputs": [
        {
          "output_type": "execute_result",
          "data": {
            "text/plain": [
              "(16769, 14)"
            ]
          },
          "metadata": {
            "tags": []
          },
          "execution_count": 8
        }
      ]
    },
    {
      "cell_type": "markdown",
      "metadata": {
        "id": "YNg-MbxYWDTP"
      },
      "source": [
        "## **Downsizing the Data**"
      ]
    },
    {
      "cell_type": "code",
      "metadata": {
        "id": "OiIFHxQSRhFP",
        "colab": {
          "base_uri": "https://localhost:8080/",
          "height": 204
        },
        "outputId": "18c505c2-2d59-40c3-d9c1-10930a3da494"
      },
      "source": [
        "#count the number of labels in categories \n",
        "data['label_length'] = [len(i.split(',')) for i in data.categories]\n",
        "data.head(5)"
      ],
      "execution_count": null,
      "outputs": [
        {
          "output_type": "execute_result",
          "data": {
            "text/html": [
              "<div>\n",
              "<style scoped>\n",
              "    .dataframe tbody tr th:only-of-type {\n",
              "        vertical-align: middle;\n",
              "    }\n",
              "\n",
              "    .dataframe tbody tr th {\n",
              "        vertical-align: top;\n",
              "    }\n",
              "\n",
              "    .dataframe thead th {\n",
              "        text-align: right;\n",
              "    }\n",
              "</style>\n",
              "<table border=\"1\" class=\"dataframe\">\n",
              "  <thead>\n",
              "    <tr style=\"text-align: right;\">\n",
              "      <th></th>\n",
              "      <th>business_id</th>\n",
              "      <th>name</th>\n",
              "      <th>city</th>\n",
              "      <th>state</th>\n",
              "      <th>stars</th>\n",
              "      <th>review_count</th>\n",
              "      <th>categories</th>\n",
              "      <th>label_length</th>\n",
              "    </tr>\n",
              "  </thead>\n",
              "  <tbody>\n",
              "    <tr>\n",
              "      <th>0</th>\n",
              "      <td>pQeaRpvuhoEqudo3uymHIQ</td>\n",
              "      <td>The Empanadas House</td>\n",
              "      <td>Champaign</td>\n",
              "      <td>IL</td>\n",
              "      <td>4.5</td>\n",
              "      <td>5</td>\n",
              "      <td>Ethnic Food, Food Trucks, Specialty Food, Impo...</td>\n",
              "      <td>8</td>\n",
              "    </tr>\n",
              "    <tr>\n",
              "      <th>1</th>\n",
              "      <td>eBEfgOPG7pvFhb2wcG9I7w</td>\n",
              "      <td>Philthy Phillys</td>\n",
              "      <td>Aurora</td>\n",
              "      <td>ON</td>\n",
              "      <td>4.5</td>\n",
              "      <td>4</td>\n",
              "      <td>Restaurants, Cheesesteaks, Poutineries</td>\n",
              "      <td>3</td>\n",
              "    </tr>\n",
              "    <tr>\n",
              "      <th>2</th>\n",
              "      <td>lu7vtrp_bE9PnxWfA8g4Pg</td>\n",
              "      <td>Banzai Sushi</td>\n",
              "      <td>Thornhill</td>\n",
              "      <td>ON</td>\n",
              "      <td>4.5</td>\n",
              "      <td>7</td>\n",
              "      <td>Japanese, Fast Food, Food Court, Restaurants</td>\n",
              "      <td>4</td>\n",
              "    </tr>\n",
              "    <tr>\n",
              "      <th>3</th>\n",
              "      <td>9sRGfSVEfLhN_km60YruTA</td>\n",
              "      <td>Apadana Restaurant</td>\n",
              "      <td>Richmond Hill</td>\n",
              "      <td>ON</td>\n",
              "      <td>3.0</td>\n",
              "      <td>3</td>\n",
              "      <td>Persian/Iranian, Turkish, Middle Eastern, Rest...</td>\n",
              "      <td>5</td>\n",
              "    </tr>\n",
              "    <tr>\n",
              "      <th>4</th>\n",
              "      <td>vjTVxnsQEZ34XjYNS-XUpA</td>\n",
              "      <td>Wetzel's Pretzels</td>\n",
              "      <td>Phoenix</td>\n",
              "      <td>AZ</td>\n",
              "      <td>4.0</td>\n",
              "      <td>10</td>\n",
              "      <td>Food, Pretzels, Bakeries, Fast Food, Restaurants</td>\n",
              "      <td>5</td>\n",
              "    </tr>\n",
              "  </tbody>\n",
              "</table>\n",
              "</div>"
            ],
            "text/plain": [
              "              business_id  ... label_length\n",
              "0  pQeaRpvuhoEqudo3uymHIQ  ...            8\n",
              "1  eBEfgOPG7pvFhb2wcG9I7w  ...            3\n",
              "2  lu7vtrp_bE9PnxWfA8g4Pg  ...            4\n",
              "3  9sRGfSVEfLhN_km60YruTA  ...            5\n",
              "4  vjTVxnsQEZ34XjYNS-XUpA  ...            5\n",
              "\n",
              "[5 rows x 8 columns]"
            ]
          },
          "metadata": {
            "tags": []
          },
          "execution_count": 9
        }
      ]
    },
    {
      "cell_type": "code",
      "metadata": {
        "id": "f8BTXIjeRhQn",
        "colab": {
          "base_uri": "https://localhost:8080/",
          "height": 669
        },
        "outputId": "cb81d9cb-b922-45bc-c1c9-3a924ed6fdbc"
      },
      "source": [
        "#sampling method: from the top 60 categories (where label length is less than 4), we do stratified sampling by stars\n",
        "\n",
        "t = data[data['label_length'] < 4]\n",
        "\n",
        "t2 = t.pivot_table(index = 'categories', values = ['business_id', 'review_count'], \n",
        "                   aggfunc = {'business_id':'count', 'review_count': 'sum'})\n",
        "t2.reset_index(inplace = True)\n",
        "t2.sort_values(by = 'business_id', ascending = False).iloc[:20, :]\n"
      ],
      "execution_count": null,
      "outputs": [
        {
          "output_type": "execute_result",
          "data": {
            "text/html": [
              "<div>\n",
              "<style scoped>\n",
              "    .dataframe tbody tr th:only-of-type {\n",
              "        vertical-align: middle;\n",
              "    }\n",
              "\n",
              "    .dataframe tbody tr th {\n",
              "        vertical-align: top;\n",
              "    }\n",
              "\n",
              "    .dataframe thead th {\n",
              "        text-align: right;\n",
              "    }\n",
              "</style>\n",
              "<table border=\"1\" class=\"dataframe\">\n",
              "  <thead>\n",
              "    <tr style=\"text-align: right;\">\n",
              "      <th></th>\n",
              "      <th>categories</th>\n",
              "      <th>business_id</th>\n",
              "      <th>review_count</th>\n",
              "    </tr>\n",
              "  </thead>\n",
              "  <tbody>\n",
              "    <tr>\n",
              "      <th>1103</th>\n",
              "      <td>Pizza, Restaurants</td>\n",
              "      <td>749</td>\n",
              "      <td>24358</td>\n",
              "    </tr>\n",
              "    <tr>\n",
              "      <th>1752</th>\n",
              "      <td>Restaurants, Pizza</td>\n",
              "      <td>737</td>\n",
              "      <td>26427</td>\n",
              "    </tr>\n",
              "    <tr>\n",
              "      <th>1365</th>\n",
              "      <td>Restaurants, Chinese</td>\n",
              "      <td>577</td>\n",
              "      <td>27043</td>\n",
              "    </tr>\n",
              "    <tr>\n",
              "      <th>986</th>\n",
              "      <td>Mexican, Restaurants</td>\n",
              "      <td>552</td>\n",
              "      <td>46691</td>\n",
              "    </tr>\n",
              "    <tr>\n",
              "      <th>428</th>\n",
              "      <td>Chinese, Restaurants</td>\n",
              "      <td>515</td>\n",
              "      <td>26203</td>\n",
              "    </tr>\n",
              "    <tr>\n",
              "      <th>1680</th>\n",
              "      <td>Restaurants, Mexican</td>\n",
              "      <td>509</td>\n",
              "      <td>52016</td>\n",
              "    </tr>\n",
              "    <tr>\n",
              "      <th>1976</th>\n",
              "      <td>Sandwiches, Restaurants, Fast Food</td>\n",
              "      <td>315</td>\n",
              "      <td>2981</td>\n",
              "    </tr>\n",
              "    <tr>\n",
              "      <th>1796</th>\n",
              "      <td>Restaurants, Sandwiches, Fast Food</td>\n",
              "      <td>313</td>\n",
              "      <td>3152</td>\n",
              "    </tr>\n",
              "    <tr>\n",
              "      <th>851</th>\n",
              "      <td>Italian, Restaurants</td>\n",
              "      <td>245</td>\n",
              "      <td>20507</td>\n",
              "    </tr>\n",
              "    <tr>\n",
              "      <th>1605</th>\n",
              "      <td>Restaurants, Italian</td>\n",
              "      <td>222</td>\n",
              "      <td>19674</td>\n",
              "    </tr>\n",
              "    <tr>\n",
              "      <th>2225</th>\n",
              "      <td>Vietnamese, Restaurants</td>\n",
              "      <td>201</td>\n",
              "      <td>12823</td>\n",
              "    </tr>\n",
              "    <tr>\n",
              "      <th>1913</th>\n",
              "      <td>Restaurants, Vietnamese</td>\n",
              "      <td>180</td>\n",
              "      <td>12244</td>\n",
              "    </tr>\n",
              "    <tr>\n",
              "      <th>2171</th>\n",
              "      <td>Thai, Restaurants</td>\n",
              "      <td>160</td>\n",
              "      <td>19797</td>\n",
              "    </tr>\n",
              "    <tr>\n",
              "      <th>1584</th>\n",
              "      <td>Restaurants, Indian</td>\n",
              "      <td>151</td>\n",
              "      <td>5316</td>\n",
              "    </tr>\n",
              "    <tr>\n",
              "      <th>816</th>\n",
              "      <td>Indian, Restaurants</td>\n",
              "      <td>150</td>\n",
              "      <td>7476</td>\n",
              "    </tr>\n",
              "    <tr>\n",
              "      <th>1882</th>\n",
              "      <td>Restaurants, Thai</td>\n",
              "      <td>146</td>\n",
              "      <td>15298</td>\n",
              "    </tr>\n",
              "    <tr>\n",
              "      <th>208</th>\n",
              "      <td>Breakfast &amp; Brunch, Restaurants</td>\n",
              "      <td>138</td>\n",
              "      <td>9193</td>\n",
              "    </tr>\n",
              "    <tr>\n",
              "      <th>1252</th>\n",
              "      <td>Restaurants, Breakfast &amp; Brunch</td>\n",
              "      <td>138</td>\n",
              "      <td>9173</td>\n",
              "    </tr>\n",
              "    <tr>\n",
              "      <th>1966</th>\n",
              "      <td>Sandwiches, Restaurants</td>\n",
              "      <td>136</td>\n",
              "      <td>4224</td>\n",
              "    </tr>\n",
              "    <tr>\n",
              "      <th>81</th>\n",
              "      <td>American (Traditional), Restaurants</td>\n",
              "      <td>136</td>\n",
              "      <td>7146</td>\n",
              "    </tr>\n",
              "  </tbody>\n",
              "</table>\n",
              "</div>"
            ],
            "text/plain": [
              "                               categories  business_id  review_count\n",
              "1103                   Pizza, Restaurants          749         24358\n",
              "1752                   Restaurants, Pizza          737         26427\n",
              "1365                 Restaurants, Chinese          577         27043\n",
              "986                  Mexican, Restaurants          552         46691\n",
              "428                  Chinese, Restaurants          515         26203\n",
              "1680                 Restaurants, Mexican          509         52016\n",
              "1976   Sandwiches, Restaurants, Fast Food          315          2981\n",
              "1796   Restaurants, Sandwiches, Fast Food          313          3152\n",
              "851                  Italian, Restaurants          245         20507\n",
              "1605                 Restaurants, Italian          222         19674\n",
              "2225              Vietnamese, Restaurants          201         12823\n",
              "1913              Restaurants, Vietnamese          180         12244\n",
              "2171                    Thai, Restaurants          160         19797\n",
              "1584                  Restaurants, Indian          151          5316\n",
              "816                   Indian, Restaurants          150          7476\n",
              "1882                    Restaurants, Thai          146         15298\n",
              "208       Breakfast & Brunch, Restaurants          138          9193\n",
              "1252      Restaurants, Breakfast & Brunch          138          9173\n",
              "1966              Sandwiches, Restaurants          136          4224\n",
              "81    American (Traditional), Restaurants          136          7146"
            ]
          },
          "metadata": {
            "tags": []
          },
          "execution_count": 10
        }
      ]
    },
    {
      "cell_type": "code",
      "metadata": {
        "id": "6crzXt2wSHdb"
      },
      "source": [
        "top_60_cat = t2.sort_values(by = 'business_id', ascending = False).iloc[:60, :].categories"
      ],
      "execution_count": null,
      "outputs": []
    },
    {
      "cell_type": "code",
      "metadata": {
        "id": "Eq5JYaPfRklt",
        "colab": {
          "base_uri": "https://localhost:8080/"
        },
        "outputId": "01b13812-b55c-4091-95b4-a99c597fa491"
      },
      "source": [
        "yelp_df = pd.DataFrame()\n",
        "\n",
        "for i in top_60_cat:\n",
        "    df = data[data['categories'] == i]\n",
        "    sample = df.groupby('stars').apply(lambda x: x.sample(n=1, random_state = 0))\n",
        "    \n",
        "    yelp_df = pd.concat([sample, yelp_df])\n",
        "\n",
        "yelp_df['review_count'].sum()"
      ],
      "execution_count": null,
      "outputs": [
        {
          "output_type": "execute_result",
          "data": {
            "text/plain": [
              "21217"
            ]
          },
          "metadata": {
            "tags": []
          },
          "execution_count": 12
        }
      ]
    },
    {
      "cell_type": "code",
      "metadata": {
        "id": "x7jond77SNbr",
        "colab": {
          "base_uri": "https://localhost:8080/",
          "height": 450
        },
        "outputId": "8a0480c5-9079-45de-b674-c1ad3d57f44f"
      },
      "source": [
        "yelp_df"
      ],
      "execution_count": null,
      "outputs": [
        {
          "output_type": "execute_result",
          "data": {
            "text/html": [
              "<div>\n",
              "<style scoped>\n",
              "    .dataframe tbody tr th:only-of-type {\n",
              "        vertical-align: middle;\n",
              "    }\n",
              "\n",
              "    .dataframe tbody tr th {\n",
              "        vertical-align: top;\n",
              "    }\n",
              "\n",
              "    .dataframe thead th {\n",
              "        text-align: right;\n",
              "    }\n",
              "</style>\n",
              "<table border=\"1\" class=\"dataframe\">\n",
              "  <thead>\n",
              "    <tr style=\"text-align: right;\">\n",
              "      <th></th>\n",
              "      <th></th>\n",
              "      <th>business_id</th>\n",
              "      <th>name</th>\n",
              "      <th>city</th>\n",
              "      <th>state</th>\n",
              "      <th>stars</th>\n",
              "      <th>review_count</th>\n",
              "      <th>categories</th>\n",
              "      <th>label_length</th>\n",
              "    </tr>\n",
              "    <tr>\n",
              "      <th>stars</th>\n",
              "      <th></th>\n",
              "      <th></th>\n",
              "      <th></th>\n",
              "      <th></th>\n",
              "      <th></th>\n",
              "      <th></th>\n",
              "      <th></th>\n",
              "      <th></th>\n",
              "      <th></th>\n",
              "    </tr>\n",
              "  </thead>\n",
              "  <tbody>\n",
              "    <tr>\n",
              "      <th>1.0</th>\n",
              "      <th>21896</th>\n",
              "      <td>zKeHgMw_yYcTuwxM4NDsbA</td>\n",
              "      <td>Bojangles Restaurant</td>\n",
              "      <td>Charlotte</td>\n",
              "      <td>NC</td>\n",
              "      <td>1.0</td>\n",
              "      <td>17</td>\n",
              "      <td>Fast Food, Restaurants</td>\n",
              "      <td>2</td>\n",
              "    </tr>\n",
              "    <tr>\n",
              "      <th>1.5</th>\n",
              "      <th>29020</th>\n",
              "      <td>OuqG_7GBiZbZkKCnAGM-PA</td>\n",
              "      <td>Bojangles</td>\n",
              "      <td>Denver</td>\n",
              "      <td>NC</td>\n",
              "      <td>1.5</td>\n",
              "      <td>11</td>\n",
              "      <td>Fast Food, Restaurants</td>\n",
              "      <td>2</td>\n",
              "    </tr>\n",
              "    <tr>\n",
              "      <th>2.0</th>\n",
              "      <th>31483</th>\n",
              "      <td>PQq8lVMr5MK4o3tFU6tHEQ</td>\n",
              "      <td>Mcdonalds</td>\n",
              "      <td>Ajax</td>\n",
              "      <td>ON</td>\n",
              "      <td>2.0</td>\n",
              "      <td>5</td>\n",
              "      <td>Fast Food, Restaurants</td>\n",
              "      <td>2</td>\n",
              "    </tr>\n",
              "    <tr>\n",
              "      <th>2.5</th>\n",
              "      <th>18385</th>\n",
              "      <td>-tA1NsBZIIhC2HeYt-hffw</td>\n",
              "      <td>Arby's</td>\n",
              "      <td>Willoughby</td>\n",
              "      <td>OH</td>\n",
              "      <td>2.5</td>\n",
              "      <td>4</td>\n",
              "      <td>Fast Food, Restaurants</td>\n",
              "      <td>2</td>\n",
              "    </tr>\n",
              "    <tr>\n",
              "      <th rowspan=\"3\" valign=\"top\">3.0</th>\n",
              "      <th>21701</th>\n",
              "      <td>hDrdznB4GLdP8TpwHsakRg</td>\n",
              "      <td>Popeyes Louisiana Kitchen</td>\n",
              "      <td>Toronto</td>\n",
              "      <td>ON</td>\n",
              "      <td>3.0</td>\n",
              "      <td>11</td>\n",
              "      <td>Fast Food, Restaurants</td>\n",
              "      <td>2</td>\n",
              "    </tr>\n",
              "    <tr>\n",
              "      <th>...</th>\n",
              "      <td>...</td>\n",
              "      <td>...</td>\n",
              "      <td>...</td>\n",
              "      <td>...</td>\n",
              "      <td>...</td>\n",
              "      <td>...</td>\n",
              "      <td>...</td>\n",
              "      <td>...</td>\n",
              "    </tr>\n",
              "    <tr>\n",
              "      <th>14136</th>\n",
              "      <td>-uYAkAplo7a4WM7c6lDrWQ</td>\n",
              "      <td>Rosati's Pizza</td>\n",
              "      <td>Phoenix</td>\n",
              "      <td>AZ</td>\n",
              "      <td>3.0</td>\n",
              "      <td>96</td>\n",
              "      <td>Pizza, Restaurants</td>\n",
              "      <td>2</td>\n",
              "    </tr>\n",
              "    <tr>\n",
              "      <th>3.5</th>\n",
              "      <th>14911</th>\n",
              "      <td>fmQj7chzVaPJOSdBNFL16Q</td>\n",
              "      <td>Pizza Di Roma</td>\n",
              "      <td>Madison</td>\n",
              "      <td>WI</td>\n",
              "      <td>3.5</td>\n",
              "      <td>114</td>\n",
              "      <td>Pizza, Restaurants</td>\n",
              "      <td>2</td>\n",
              "    </tr>\n",
              "    <tr>\n",
              "      <th>4.0</th>\n",
              "      <th>15726</th>\n",
              "      <td>UdM19HkLvzLRL8FCA7O4Cg</td>\n",
              "      <td>Rex Pizza</td>\n",
              "      <td>Verdun</td>\n",
              "      <td>QC</td>\n",
              "      <td>4.0</td>\n",
              "      <td>8</td>\n",
              "      <td>Pizza, Restaurants</td>\n",
              "      <td>2</td>\n",
              "    </tr>\n",
              "    <tr>\n",
              "      <th>4.5</th>\n",
              "      <th>19140</th>\n",
              "      <td>DiPoz83ZwapkT1LfjfaikA</td>\n",
              "      <td>Marconi Pizzeria</td>\n",
              "      <td>Sainte-Julie</td>\n",
              "      <td>QC</td>\n",
              "      <td>4.5</td>\n",
              "      <td>3</td>\n",
              "      <td>Pizza, Restaurants</td>\n",
              "      <td>2</td>\n",
              "    </tr>\n",
              "    <tr>\n",
              "      <th>5.0</th>\n",
              "      <th>15577</th>\n",
              "      <td>QBRq4Bh1c9JvLnUOzCVqbQ</td>\n",
              "      <td>Pizza Nova</td>\n",
              "      <td>Concord</td>\n",
              "      <td>ON</td>\n",
              "      <td>5.0</td>\n",
              "      <td>4</td>\n",
              "      <td>Pizza, Restaurants</td>\n",
              "      <td>2</td>\n",
              "    </tr>\n",
              "  </tbody>\n",
              "</table>\n",
              "<p>480 rows × 8 columns</p>\n",
              "</div>"
            ],
            "text/plain": [
              "                        business_id  ... label_length\n",
              "stars                                ...             \n",
              "1.0   21896  zKeHgMw_yYcTuwxM4NDsbA  ...            2\n",
              "1.5   29020  OuqG_7GBiZbZkKCnAGM-PA  ...            2\n",
              "2.0   31483  PQq8lVMr5MK4o3tFU6tHEQ  ...            2\n",
              "2.5   18385  -tA1NsBZIIhC2HeYt-hffw  ...            2\n",
              "3.0   21701  hDrdznB4GLdP8TpwHsakRg  ...            2\n",
              "...                             ...  ...          ...\n",
              "      14136  -uYAkAplo7a4WM7c6lDrWQ  ...            2\n",
              "3.5   14911  fmQj7chzVaPJOSdBNFL16Q  ...            2\n",
              "4.0   15726  UdM19HkLvzLRL8FCA7O4Cg  ...            2\n",
              "4.5   19140  DiPoz83ZwapkT1LfjfaikA  ...            2\n",
              "5.0   15577  QBRq4Bh1c9JvLnUOzCVqbQ  ...            2\n",
              "\n",
              "[480 rows x 8 columns]"
            ]
          },
          "metadata": {
            "tags": []
          },
          "execution_count": 13
        }
      ]
    },
    {
      "cell_type": "markdown",
      "metadata": {
        "id": "3ScIiAqpcGdB"
      },
      "source": [
        "# **Exporatory Data Analysis**\n"
      ]
    },
    {
      "cell_type": "code",
      "metadata": {
        "id": "2Jr5OXp-cpJd",
        "colab": {
          "base_uri": "https://localhost:8080/"
        },
        "outputId": "909b1ed9-9ca7-49f5-e0f7-ffff24d881cf"
      },
      "source": [
        "#check percentage of null values in dataframe\n",
        "yelp_df.isnull().sum() * 100 / len(yelp_df)"
      ],
      "execution_count": null,
      "outputs": [
        {
          "output_type": "execute_result",
          "data": {
            "text/plain": [
              "business_id     0.0\n",
              "name            0.0\n",
              "city            0.0\n",
              "state           0.0\n",
              "stars           0.0\n",
              "review_count    0.0\n",
              "categories      0.0\n",
              "label_length    0.0\n",
              "dtype: float64"
            ]
          },
          "metadata": {
            "tags": []
          },
          "execution_count": 14
        }
      ]
    },
    {
      "cell_type": "code",
      "metadata": {
        "id": "szzHQlQtspyH",
        "colab": {
          "base_uri": "https://localhost:8080/",
          "height": 404
        },
        "outputId": "4f4eb099-9a63-46ff-d730-a03e1044454e"
      },
      "source": [
        "plt.figure(figsize=(10,6))\n",
        "cm = plt.cm.get_cmap('RdYlBu_r')\n",
        "\n",
        "# Get the histogramp\n",
        "Y,X = np.histogram(yelp_df['stars'], bins = 9 )\n",
        "x_span = X.max()-X.min()\n",
        "C = [cm(((x-X.min())/x_span)) for x in X]\n",
        "plt.title('Distribution of Store Count by Stars')\n",
        "plt.xlabel('Stars')\n",
        "plt.ylabel('Store Count')\n",
        "plt.bar(X[:-1],Y,color=C,width=X[1]-X[0])\n",
        "\n",
        "plt.show()"
      ],
      "execution_count": null,
      "outputs": [
        {
          "output_type": "display_data",
          "data": {
            "image/png": "[encoded data removed]",
            "text/plain": [
              "<Figure size 720x432 with 1 Axes>"
            ]
          },
          "metadata": {
            "tags": [],
            "needs_background": "light"
          }
        }
      ]
    },
    {
      "cell_type": "code",
      "metadata": {
        "id": "qgDdwLL-sp6w",
        "colab": {
          "base_uri": "https://localhost:8080/",
          "height": 421
        },
        "outputId": "203c3984-ddae-4080-e5c9-f6f81c887584"
      },
      "source": [
        "plt.figure(figsize=(10,6))\n",
        "plt.hist(yelp_df['review_count'], bins = 150)\n",
        "plt.title('Distribution of Store Count by Review Count')\n",
        "plt.xlabel('Review Count')\n",
        "plt.ylabel('Store Count')\n",
        "plt.xlim((0,500))"
      ],
      "execution_count": null,
      "outputs": [
        {
          "output_type": "execute_result",
          "data": {
            "text/plain": [
              "(0.0, 500.0)"
            ]
          },
          "metadata": {
            "tags": []
          },
          "execution_count": 16
        },
        {
          "output_type": "display_data",
          "data": {
            "image/png": "[encoded data removed]",
            "text/plain": [
              "<Figure size 720x432 with 1 Axes>"
            ]
          },
          "metadata": {
            "tags": [],
            "needs_background": "light"
          }
        }
      ]
    },
    {
      "cell_type": "code",
      "metadata": {
        "id": "T9nzetK7hQsX",
        "colab": {
          "base_uri": "https://localhost:8080/",
          "height": 426
        },
        "outputId": "584d83fe-9834-4e51-bc57-571560fbaa5c"
      },
      "source": [
        "yelp_df['state'].value_counts().plot(kind = 'bar', figsize = (10,6))\n",
        "plt.title('Distribution of Store Count by State')\n",
        "plt.xlabel(\"State\")\n",
        "plt.ylabel(\"Store Count\")"
      ],
      "execution_count": null,
      "outputs": [
        {
          "output_type": "execute_result",
          "data": {
            "text/plain": [
              "Text(0, 0.5, 'Store Count')"
            ]
          },
          "metadata": {
            "tags": []
          },
          "execution_count": 17
        },
        {
          "output_type": "display_data",
          "data": {
            "image/png": "[encoded data removed]",
            "text/plain": [
              "<Figure size 720x432 with 1 Axes>"
            ]
          },
          "metadata": {
            "tags": [],
            "needs_background": "light"
          }
        }
      ]
    },
    {
      "cell_type": "code",
      "metadata": {
        "id": "PvL9u-Yfx-md",
        "colab": {
          "base_uri": "https://localhost:8080/",
          "height": 477
        },
        "outputId": "a0cee74e-5ee6-44e7-ddf1-fef6ac588919"
      },
      "source": [
        "#calculate the length of each review \n",
        "new_yelp_df['text_length'] = new_yelp_df['text'].apply(len)\n",
        "\n",
        "#review length by stars\n",
        "plt.figure(figsize=(14,6))\n",
        "g = sns.FacetGrid(data=new_yelp_df, col='review_stars', height=3, col_wrap=3)\n",
        "g.map(plt.hist, 'text_length', bins=30, color='b')\n",
        "plt.subplots_adjust(top=0.9)\n",
        "g.fig.suptitle(\"Text Length by Review Stars\")"
      ],
      "execution_count": null,
      "outputs": [
        {
          "output_type": "execute_result",
          "data": {
            "text/plain": [
              "Text(0.5, 0.98, 'Text Length by Review Stars')"
            ]
          },
          "metadata": {
            "tags": []
          },
          "execution_count": 18
        },
        {
          "output_type": "display_data",
          "data": {
            "text/plain": [
              "<Figure size 1008x432 with 0 Axes>"
            ]
          },
          "metadata": {
            "tags": []
          }
        },
        {
          "output_type": "display_data",
          "data": {
            "image/png": "[encoded data removed]",
            "text/plain": [
              "<Figure size 648x432 with 5 Axes>"
            ]
          },
          "metadata": {
            "tags": [],
            "needs_background": "light"
          }
        }
      ]
    },
    {
      "cell_type": "code",
      "metadata": {
        "id": "ZEkSOQMA_ZCX",
        "colab": {
          "base_uri": "https://localhost:8080/",
          "height": 455
        },
        "outputId": "5ee90955-a36c-4bba-b3c9-ab87f6ac2988"
      },
      "source": [
        "plt.figure(figsize=(10,6))\n",
        "sns.boxplot(x='review_stars',y='text_length', \n",
        "            data = new_yelp_df, palette=sns.color_palette(\"muted\")).set(title='Text Length by Review Stars', \n",
        "                                                                 xlabel='Review Stars', ylabel='Text Length')"
      ],
      "execution_count": null,
      "outputs": [
        {
          "output_type": "execute_result",
          "data": {
            "text/plain": [
              "[Text(0, 0.5, 'Text Length'),\n",
              " Text(0.5, 0, 'Review Stars'),\n",
              " Text(0.5, 1.0, 'Text Length by Review Stars')]"
            ]
          },
          "metadata": {
            "tags": []
          },
          "execution_count": 19
        },
        {
          "output_type": "display_data",
          "data": {
            "image/png": "[encoded data removed]",
            "text/plain": [
              "<Figure size 720x432 with 1 Axes>"
            ]
          },
          "metadata": {
            "tags": [],
            "needs_background": "light"
          }
        }
      ]
    },
    {
      "cell_type": "code",
      "metadata": {
        "id": "6vQ_Kj2Mx-2_",
        "colab": {
          "base_uri": "https://localhost:8080/",
          "height": 455
        },
        "outputId": "f44dc9ba-8eed-452f-94ad-daa5c1bd1a69"
      },
      "source": [
        "plt.figure(figsize=(10,6))\n",
        "sns.countplot(x='review_stars', \n",
        "              data = new_yelp_df, \n",
        "              palette=sns.color_palette(\"muted\")).set(title='Review Counts by Review Stars', \n",
        "                                               xlabel='Review Stars', ylabel='Review Counts')\n"
      ],
      "execution_count": null,
      "outputs": [
        {
          "output_type": "execute_result",
          "data": {
            "text/plain": [
              "[Text(0, 0.5, 'Review Counts'),\n",
              " Text(0.5, 0, 'Review Stars'),\n",
              " Text(0.5, 1.0, 'Review Counts by Review Stars')]"
            ]
          },
          "metadata": {
            "tags": []
          },
          "execution_count": 20
        },
        {
          "output_type": "display_data",
          "data": {
            "image/png": "[encoded data removed]",
            "text/plain": [
              "<Figure size 720x432 with 1 Axes>"
            ]
          },
          "metadata": {
            "tags": [],
            "needs_background": "light"
          }
        }
      ]
    },
    {
      "cell_type": "code",
      "metadata": {
        "id": "N8c6A5c9x-6Z",
        "colab": {
          "base_uri": "https://localhost:8080/",
          "height": 408
        },
        "outputId": "b938e36d-afdc-4953-eacc-d02d471d6981"
      },
      "source": [
        "stars = new_yelp_df.groupby('review_stars').mean()\n",
        "\n",
        "plt.figure(figsize=(10,6))\n",
        "cmap = sns.diverging_palette(10, 250)\n",
        "sns.heatmap(data=stars.corr(), annot=True, cmap=\"Blues\")\n",
        "plt.title(\"Heatmap of yelp_business_review Data\")"
      ],
      "execution_count": null,
      "outputs": [
        {
          "output_type": "execute_result",
          "data": {
            "text/plain": [
              "Text(0.5, 1.0, 'Heatmap of yelp_business_review Data')"
            ]
          },
          "metadata": {
            "tags": []
          },
          "execution_count": 21
        },
        {
          "output_type": "display_data",
          "data": {
            "image/png": "[encoded data removed]",
            "text/plain": [
              "<Figure size 720x432 with 2 Axes>"
            ]
          },
          "metadata": {
            "tags": [],
            "needs_background": "light"
          }
        }
      ]
    },
    {
      "cell_type": "code",
      "metadata": {
        "id": "BMPlhkyLBmtX",
        "colab": {
          "base_uri": "https://localhost:8080/",
          "height": 328
        },
        "outputId": "1b800786-18ed-4dd4-e04b-75d02be87bfc"
      },
      "source": [
        "review_type = new_yelp_df.groupby('stars').sum()\n",
        "review_type['stars'] = review_type.index\n",
        "review_type.reset_index(inplace = True, drop = True)\n",
        "review_type"
      ],
      "execution_count": null,
      "outputs": [
        {
          "output_type": "execute_result",
          "data": {
            "text/html": [
              "<div>\n",
              "<style scoped>\n",
              "    .dataframe tbody tr th:only-of-type {\n",
              "        vertical-align: middle;\n",
              "    }\n",
              "\n",
              "    .dataframe tbody tr th {\n",
              "        vertical-align: top;\n",
              "    }\n",
              "\n",
              "    .dataframe thead th {\n",
              "        text-align: right;\n",
              "    }\n",
              "</style>\n",
              "<table border=\"1\" class=\"dataframe\">\n",
              "  <thead>\n",
              "    <tr style=\"text-align: right;\">\n",
              "      <th></th>\n",
              "      <th>review_count</th>\n",
              "      <th>review_stars</th>\n",
              "      <th>useful</th>\n",
              "      <th>funny</th>\n",
              "      <th>cool</th>\n",
              "      <th>text_length</th>\n",
              "      <th>stars</th>\n",
              "    </tr>\n",
              "  </thead>\n",
              "  <tbody>\n",
              "    <tr>\n",
              "      <th>0</th>\n",
              "      <td>1539</td>\n",
              "      <td>202</td>\n",
              "      <td>162</td>\n",
              "      <td>78</td>\n",
              "      <td>21</td>\n",
              "      <td>98972</td>\n",
              "      <td>1.0</td>\n",
              "    </tr>\n",
              "    <tr>\n",
              "      <th>1</th>\n",
              "      <td>21705</td>\n",
              "      <td>945</td>\n",
              "      <td>524</td>\n",
              "      <td>199</td>\n",
              "      <td>115</td>\n",
              "      <td>326271</td>\n",
              "      <td>1.5</td>\n",
              "    </tr>\n",
              "    <tr>\n",
              "      <th>2</th>\n",
              "      <td>71674</td>\n",
              "      <td>2167</td>\n",
              "      <td>1037</td>\n",
              "      <td>395</td>\n",
              "      <td>392</td>\n",
              "      <td>588889</td>\n",
              "      <td>2.0</td>\n",
              "    </tr>\n",
              "    <tr>\n",
              "      <th>3</th>\n",
              "      <td>128092</td>\n",
              "      <td>4416</td>\n",
              "      <td>1428</td>\n",
              "      <td>540</td>\n",
              "      <td>594</td>\n",
              "      <td>964555</td>\n",
              "      <td>2.5</td>\n",
              "    </tr>\n",
              "    <tr>\n",
              "      <th>4</th>\n",
              "      <td>179499</td>\n",
              "      <td>4591</td>\n",
              "      <td>1446</td>\n",
              "      <td>543</td>\n",
              "      <td>700</td>\n",
              "      <td>886863</td>\n",
              "      <td>3.0</td>\n",
              "    </tr>\n",
              "    <tr>\n",
              "      <th>5</th>\n",
              "      <td>855988</td>\n",
              "      <td>13456</td>\n",
              "      <td>4184</td>\n",
              "      <td>1541</td>\n",
              "      <td>1467</td>\n",
              "      <td>2004355</td>\n",
              "      <td>3.5</td>\n",
              "    </tr>\n",
              "    <tr>\n",
              "      <th>6</th>\n",
              "      <td>1678636</td>\n",
              "      <td>17814</td>\n",
              "      <td>4554</td>\n",
              "      <td>1827</td>\n",
              "      <td>2722</td>\n",
              "      <td>2420791</td>\n",
              "      <td>4.0</td>\n",
              "    </tr>\n",
              "    <tr>\n",
              "      <th>7</th>\n",
              "      <td>454030</td>\n",
              "      <td>8974</td>\n",
              "      <td>2322</td>\n",
              "      <td>881</td>\n",
              "      <td>1541</td>\n",
              "      <td>1063360</td>\n",
              "      <td>4.5</td>\n",
              "    </tr>\n",
              "    <tr>\n",
              "      <th>8</th>\n",
              "      <td>569049</td>\n",
              "      <td>6890</td>\n",
              "      <td>1687</td>\n",
              "      <td>478</td>\n",
              "      <td>1149</td>\n",
              "      <td>591928</td>\n",
              "      <td>5.0</td>\n",
              "    </tr>\n",
              "  </tbody>\n",
              "</table>\n",
              "</div>"
            ],
            "text/plain": [
              "   review_count  review_stars  useful  funny  cool  text_length  stars\n",
              "0          1539           202     162     78    21        98972    1.0\n",
              "1         21705           945     524    199   115       326271    1.5\n",
              "2         71674          2167    1037    395   392       588889    2.0\n",
              "3        128092          4416    1428    540   594       964555    2.5\n",
              "4        179499          4591    1446    543   700       886863    3.0\n",
              "5        855988         13456    4184   1541  1467      2004355    3.5\n",
              "6       1678636         17814    4554   1827  2722      2420791    4.0\n",
              "7        454030          8974    2322    881  1541      1063360    4.5\n",
              "8        569049          6890    1687    478  1149       591928    5.0"
            ]
          },
          "metadata": {
            "tags": []
          },
          "execution_count": 22
        }
      ]
    },
    {
      "cell_type": "code",
      "metadata": {
        "id": "O44CehnmB-AU",
        "colab": {
          "base_uri": "https://localhost:8080/",
          "height": 421
        },
        "outputId": "9e7bce93-79b7-4ed4-84f3-94be53d1608e"
      },
      "source": [
        "plt.figure(figsize=(10,6))\n",
        "\n",
        "plt.plot( 'stars', 'useful', data=review_type, markerfacecolor='blue', color='skyblue', linewidth=3, label = 'useful')\n",
        "plt.plot( 'stars', 'funny', data=review_type, color='green', linewidth=3, label = 'funny')\n",
        "plt.plot( 'stars', 'cool', data=review_type, color='red', linewidth=3, label=\"cool\")\n",
        "plt.title('Review Count by Stars and Review Types (Useful, Funny, Cool)')\n",
        "plt.xlabel('Stars')\n",
        "plt.ylabel('Review Counts')\n",
        "plt.legend()"
      ],
      "execution_count": null,
      "outputs": [
        {
          "output_type": "execute_result",
          "data": {
            "text/plain": [
              "<matplotlib.legend.Legend at 0x7fbd3858a748>"
            ]
          },
          "metadata": {
            "tags": []
          },
          "execution_count": 23
        },
        {
          "output_type": "display_data",
          "data": {
            "image/png": "[encoded data removed]",
            "text/plain": [
              "<Figure size 720x432 with 1 Axes>"
            ]
          },
          "metadata": {
            "tags": [],
            "needs_background": "light"
          }
        }
      ]
    },
    {
      "cell_type": "markdown",
      "metadata": {
        "id": "qEU7Yel89JpX"
      },
      "source": [
        "## Preprocessing for Labeled Data"
      ]
    },
    {
      "cell_type": "markdown",
      "metadata": {
        "id": "WpAipgcMcRk6"
      },
      "source": [
        "import csv \"yelp_review_with_labels\""
      ]
    },
    {
      "cell_type": "code",
      "metadata": {
        "id": "efdBIiFv9umE"
      },
      "source": [
        "label_link = 'https://drive.google.com/file/d/1GJ-OFFtkgCUQ-RzHxjRS6FcvL28-GW8q/view?usp=sharing'\n",
        "  \n",
        "label_id = label_link.split(\"/\")[-2] \n",
        "  \n",
        "new_downloaded = drive.CreateFile({'id':label_id})  \n",
        "new_downloaded.GetContentFile('yelp_review_with_labels.csv')  "
      ],
      "execution_count": null,
      "outputs": []
    },
    {
      "cell_type": "code",
      "metadata": {
        "id": "h7WxoKCHyYDX"
      },
      "source": [
        "label_data=pd.read_csv(\"yelp_review_with_labels.csv\")"
      ],
      "execution_count": null,
      "outputs": []
    },
    {
      "cell_type": "code",
      "metadata": {
        "id": "RSLbKcgwyYIP",
        "colab": {
          "base_uri": "https://localhost:8080/"
        },
        "outputId": "6bf875fd-a772-455e-c650-c4a7b67d4db1"
      },
      "source": [
        "label_data.columns"
      ],
      "execution_count": null,
      "outputs": [
        {
          "output_type": "execute_result",
          "data": {
            "text/plain": [
              "Index(['business_id', 'name', 'city', 'state', 'stars', 'review_count',\n",
              "       'categories', 'review_id', 'review_stars', 'useful', 'funny', 'cool',\n",
              "       'text', 'date', 'polarity'],\n",
              "      dtype='object')"
            ]
          },
          "metadata": {
            "tags": []
          },
          "execution_count": 26
        }
      ]
    },
    {
      "cell_type": "code",
      "metadata": {
        "id": "5ps_U5xOx_KY",
        "colab": {
          "base_uri": "https://localhost:8080/"
        },
        "outputId": "2d48d2aa-3592-417d-ae52-23a9c22d0e98"
      },
      "source": [
        "label_data.shape"
      ],
      "execution_count": null,
      "outputs": [
        {
          "output_type": "execute_result",
          "data": {
            "text/plain": [
              "(16769, 15)"
            ]
          },
          "metadata": {
            "tags": []
          },
          "execution_count": 27
        }
      ]
    },
    {
      "cell_type": "code",
      "metadata": {
        "id": "erEYLtcpx_R1",
        "colab": {
          "base_uri": "https://localhost:8080/",
          "height": 374
        },
        "outputId": "bc9405fb-b6f7-4759-bb4b-93df89fecb1f"
      },
      "source": [
        "label_data.head(5)"
      ],
      "execution_count": null,
      "outputs": [
        {
          "output_type": "execute_result",
          "data": {
            "text/html": [
              "<div>\n",
              "<style scoped>\n",
              "    .dataframe tbody tr th:only-of-type {\n",
              "        vertical-align: middle;\n",
              "    }\n",
              "\n",
              "    .dataframe tbody tr th {\n",
              "        vertical-align: top;\n",
              "    }\n",
              "\n",
              "    .dataframe thead th {\n",
              "        text-align: right;\n",
              "    }\n",
              "</style>\n",
              "<table border=\"1\" class=\"dataframe\">\n",
              "  <thead>\n",
              "    <tr style=\"text-align: right;\">\n",
              "      <th></th>\n",
              "      <th>business_id</th>\n",
              "      <th>name</th>\n",
              "      <th>city</th>\n",
              "      <th>state</th>\n",
              "      <th>stars</th>\n",
              "      <th>review_count</th>\n",
              "      <th>categories</th>\n",
              "      <th>review_id</th>\n",
              "      <th>review_stars</th>\n",
              "      <th>useful</th>\n",
              "      <th>funny</th>\n",
              "      <th>cool</th>\n",
              "      <th>text</th>\n",
              "      <th>date</th>\n",
              "      <th>polarity</th>\n",
              "    </tr>\n",
              "  </thead>\n",
              "  <tbody>\n",
              "    <tr>\n",
              "      <th>0</th>\n",
              "      <td>bPBZEDuHbE-I7bxUWIYMhQ</td>\n",
              "      <td>Oishii Sushi</td>\n",
              "      <td>Calgary</td>\n",
              "      <td>AB</td>\n",
              "      <td>3.0</td>\n",
              "      <td>91</td>\n",
              "      <td>Japanese, Restaurants, Sushi Bars</td>\n",
              "      <td>rFfxQEA9wCmRYyqDSv1ecQ</td>\n",
              "      <td>4</td>\n",
              "      <td>0</td>\n",
              "      <td>1</td>\n",
              "      <td>0</td>\n",
              "      <td>Went here for all you can eat sushi dinner! Bo...</td>\n",
              "      <td>2017-11-11 19:16:19</td>\n",
              "      <td>0</td>\n",
              "    </tr>\n",
              "    <tr>\n",
              "      <th>1</th>\n",
              "      <td>bPBZEDuHbE-I7bxUWIYMhQ</td>\n",
              "      <td>Oishii Sushi</td>\n",
              "      <td>Calgary</td>\n",
              "      <td>AB</td>\n",
              "      <td>3.0</td>\n",
              "      <td>91</td>\n",
              "      <td>Japanese, Restaurants, Sushi Bars</td>\n",
              "      <td>MccdpC7TvFCTKO5Pdx37PA</td>\n",
              "      <td>1</td>\n",
              "      <td>1</td>\n",
              "      <td>1</td>\n",
              "      <td>0</td>\n",
              "      <td>The service was okay when it was present. The ...</td>\n",
              "      <td>2016-02-27 08:03:55</td>\n",
              "      <td>0</td>\n",
              "    </tr>\n",
              "    <tr>\n",
              "      <th>2</th>\n",
              "      <td>bPBZEDuHbE-I7bxUWIYMhQ</td>\n",
              "      <td>Oishii Sushi</td>\n",
              "      <td>Calgary</td>\n",
              "      <td>AB</td>\n",
              "      <td>3.0</td>\n",
              "      <td>91</td>\n",
              "      <td>Japanese, Restaurants, Sushi Bars</td>\n",
              "      <td>OS_uA1Dm7iV4NLGcgtZ9qw</td>\n",
              "      <td>5</td>\n",
              "      <td>0</td>\n",
              "      <td>0</td>\n",
              "      <td>1</td>\n",
              "      <td>Went here on the weekend for lunch and food/se...</td>\n",
              "      <td>2015-11-09 23:03:17</td>\n",
              "      <td>1</td>\n",
              "    </tr>\n",
              "    <tr>\n",
              "      <th>3</th>\n",
              "      <td>bPBZEDuHbE-I7bxUWIYMhQ</td>\n",
              "      <td>Oishii Sushi</td>\n",
              "      <td>Calgary</td>\n",
              "      <td>AB</td>\n",
              "      <td>3.0</td>\n",
              "      <td>91</td>\n",
              "      <td>Japanese, Restaurants, Sushi Bars</td>\n",
              "      <td>q37oYWTdZmXC8Z26nTR87Q</td>\n",
              "      <td>5</td>\n",
              "      <td>0</td>\n",
              "      <td>0</td>\n",
              "      <td>0</td>\n",
              "      <td>I've eaten here twice now and I'm really impre...</td>\n",
              "      <td>2017-07-12 16:52:23</td>\n",
              "      <td>1</td>\n",
              "    </tr>\n",
              "    <tr>\n",
              "      <th>4</th>\n",
              "      <td>bPBZEDuHbE-I7bxUWIYMhQ</td>\n",
              "      <td>Oishii Sushi</td>\n",
              "      <td>Calgary</td>\n",
              "      <td>AB</td>\n",
              "      <td>3.0</td>\n",
              "      <td>91</td>\n",
              "      <td>Japanese, Restaurants, Sushi Bars</td>\n",
              "      <td>5w3lP3O8ZUO9kOTfQFi8pQ</td>\n",
              "      <td>1</td>\n",
              "      <td>1</td>\n",
              "      <td>1</td>\n",
              "      <td>1</td>\n",
              "      <td>Not good for groups.\\n We came here tonight fo...</td>\n",
              "      <td>2016-04-04 05:57:54</td>\n",
              "      <td>0</td>\n",
              "    </tr>\n",
              "  </tbody>\n",
              "</table>\n",
              "</div>"
            ],
            "text/plain": [
              "              business_id          name  ...                 date polarity\n",
              "0  bPBZEDuHbE-I7bxUWIYMhQ  Oishii Sushi  ...  2017-11-11 19:16:19        0\n",
              "1  bPBZEDuHbE-I7bxUWIYMhQ  Oishii Sushi  ...  2016-02-27 08:03:55        0\n",
              "2  bPBZEDuHbE-I7bxUWIYMhQ  Oishii Sushi  ...  2015-11-09 23:03:17        1\n",
              "3  bPBZEDuHbE-I7bxUWIYMhQ  Oishii Sushi  ...  2017-07-12 16:52:23        1\n",
              "4  bPBZEDuHbE-I7bxUWIYMhQ  Oishii Sushi  ...  2016-04-04 05:57:54        0\n",
              "\n",
              "[5 rows x 15 columns]"
            ]
          },
          "metadata": {
            "tags": []
          },
          "execution_count": 28
        }
      ]
    },
    {
      "cell_type": "code",
      "metadata": {
        "id": "E49QlzC0flfi",
        "colab": {
          "base_uri": "https://localhost:8080/"
        },
        "outputId": "ce0910d2-a451-42b2-f6c8-0eff4bebfae7"
      },
      "source": [
        "label_data.groupby('polarity').polarity.count()"
      ],
      "execution_count": null,
      "outputs": [
        {
          "output_type": "execute_result",
          "data": {
            "text/plain": [
              "polarity\n",
              "0     5687\n",
              "1    11082\n",
              "Name: polarity, dtype: int64"
            ]
          },
          "metadata": {
            "tags": []
          },
          "execution_count": 29
        }
      ]
    },
    {
      "cell_type": "code",
      "metadata": {
        "id": "FROwo4tuflpH",
        "colab": {
          "base_uri": "https://localhost:8080/",
          "height": 105
        },
        "outputId": "d2cc56e3-3e25-43d2-fe27-52ea51e0a0d7"
      },
      "source": [
        "#lowercase conversion  \n",
        "label_data['text'] = [i.lower() for i in label_data['text']]\n",
        "label_data['text'][0]"
      ],
      "execution_count": null,
      "outputs": [
        {
          "output_type": "execute_result",
          "data": {
            "application/vnd.google.colaboratory.intrinsic+json": {
              "type": "string"
            },
            "text/plain": [
              "\"went here for all you can eat sushi dinner! bottomline: best all you can eat sushi in calgary! it costs $26 per person for sushi and sashimi and $32 for the deluxe menu which includes oysters and tataki. \\n\\nwe went a little overboard with ordering rolls (to the point that the waiter asked if we were sure we can finish haha) and then regretted it shortly after! there is a charge for unfinished food so it was a little stressful haha \\n\\nwe ordered the mango dragon roll (prawn tempura and avacado with mango), philadelphia roll, spicy salmon roll, beef udon, miso soup, salmon and tuna sashimi, salmon rose and prawn tempura. out of these my favourites were the spicy salmon and the mango dragon roll. i didn't love the tempura personally because it was a bit soggy. didn't have room for dessert after all this food so can't comment on that haha\""
            ]
          },
          "metadata": {
            "tags": []
          },
          "execution_count": 30
        }
      ]
    },
    {
      "cell_type": "code",
      "metadata": {
        "id": "AjvzhUrddld8"
      },
      "source": [
        "import nltk"
      ],
      "execution_count": null,
      "outputs": []
    },
    {
      "cell_type": "code",
      "metadata": {
        "id": "h70meJWeflty",
        "colab": {
          "base_uri": "https://localhost:8080/",
          "height": 122
        },
        "outputId": "eb816a6e-a149-4467-e0d5-4e9f03ea0556"
      },
      "source": [
        "#stopword removal \n",
        "from nltk.corpus import stopwords\n",
        "nltk.download('stopwords')\n",
        "\n",
        "Stopwords = set(stopwords.words('english'))\n",
        "\n",
        "label_data[\"text\"] = label_data[\"text\"].apply(lambda text: \" \".join([word for word in str(text).split() if word not in Stopwords]))\n",
        "label_data['text'][0]"
      ],
      "execution_count": null,
      "outputs": [
        {
          "output_type": "stream",
          "text": [
            "[nltk_data] Downloading package stopwords to /root/nltk_data...\n",
            "[nltk_data]   Unzipping corpora/stopwords.zip.\n"
          ],
          "name": "stdout"
        },
        {
          "output_type": "execute_result",
          "data": {
            "application/vnd.google.colaboratory.intrinsic+json": {
              "type": "string"
            },
            "text/plain": [
              "\"went eat sushi dinner! bottomline: best eat sushi calgary! costs $26 per person sushi sashimi $32 deluxe menu includes oysters tataki. went little overboard ordering rolls (to point waiter asked sure finish haha) regretted shortly after! charge unfinished food little stressful haha ordered mango dragon roll (prawn tempura avacado mango), philadelphia roll, spicy salmon roll, beef udon, miso soup, salmon tuna sashimi, salmon rose prawn tempura. favourites spicy salmon mango dragon roll. love tempura personally bit soggy. room dessert food can't comment haha\""
            ]
          },
          "metadata": {
            "tags": []
          },
          "execution_count": 32
        }
      ]
    },
    {
      "cell_type": "code",
      "metadata": {
        "id": "bHR3znHkflyL"
      },
      "source": [
        "#punctuation removal + number removal + space/blank removal \n",
        "import string\n",
        "import re\n",
        "def clean_text(text):\n",
        "    # remove numbers\n",
        "    text_nonum = re.sub(r'\\d+', '', text)\n",
        "    # remove punctuations and convert characters to lower case\n",
        "    text_nopunct = \"\".join([char for char in text_nonum if char not in string.punctuation]) \n",
        "    # substitute multiple whitespace with single whitespace\n",
        "    # remove leading and trailing whitespaces\n",
        "    text_no_doublespace = re.sub('\\s+', ' ', text_nopunct).strip()\n",
        "    return text_no_doublespace\n",
        "\n",
        "label_data[\"text\"]=label_data['text'].map(lambda text: clean_text(text))\n"
      ],
      "execution_count": null,
      "outputs": []
    },
    {
      "cell_type": "code",
      "metadata": {
        "id": "qo79igdSdva8",
        "colab": {
          "base_uri": "https://localhost:8080/",
          "height": 88
        },
        "outputId": "23ad9c46-badf-4916-a0ad-fd17bea97970"
      },
      "source": [
        "label_data['text'][0]"
      ],
      "execution_count": null,
      "outputs": [
        {
          "output_type": "execute_result",
          "data": {
            "application/vnd.google.colaboratory.intrinsic+json": {
              "type": "string"
            },
            "text/plain": [
              "'went eat sushi dinner bottomline best eat sushi calgary costs per person sushi sashimi deluxe menu includes oysters tataki went little overboard ordering rolls to point waiter asked sure finish haha regretted shortly after charge unfinished food little stressful haha ordered mango dragon roll prawn tempura avacado mango philadelphia roll spicy salmon roll beef udon miso soup salmon tuna sashimi salmon rose prawn tempura favourites spicy salmon mango dragon roll love tempura personally bit soggy room dessert food cant comment haha'"
            ]
          },
          "metadata": {
            "tags": []
          },
          "execution_count": 34
        }
      ]
    },
    {
      "cell_type": "code",
      "metadata": {
        "id": "EYcHXq4_fmRg",
        "colab": {
          "base_uri": "https://localhost:8080/"
        },
        "outputId": "545afad7-99d9-4f3b-8872-01cc01ecddd3"
      },
      "source": [
        "#lemmatization\n",
        "import nltk\n",
        "nltk.download('wordnet')\n",
        "from textblob import Word\n",
        "from nltk.stem import WordNetLemmatizer \n",
        "  \n",
        "lemmatizer = WordNetLemmatizer()\n",
        "\n",
        "# Lemmatize final review format\n",
        "label_data['lemmatized_text'] = label_data['text'].apply(lambda x: \" \".join([Word(word).lemmatize() for word in x.split()]))"
      ],
      "execution_count": null,
      "outputs": [
        {
          "output_type": "stream",
          "text": [
            "[nltk_data] Downloading package wordnet to /root/nltk_data...\n",
            "[nltk_data]   Unzipping corpora/wordnet.zip.\n"
          ],
          "name": "stdout"
        }
      ]
    },
    {
      "cell_type": "code",
      "metadata": {
        "id": "l-_BIFHdhg31",
        "colab": {
          "base_uri": "https://localhost:8080/",
          "height": 88
        },
        "outputId": "02667181-2d51-4b09-bdc3-9604106fd87d"
      },
      "source": [
        "label_data['lemmatized_text'][0]"
      ],
      "execution_count": null,
      "outputs": [
        {
          "output_type": "execute_result",
          "data": {
            "application/vnd.google.colaboratory.intrinsic+json": {
              "type": "string"
            },
            "text/plain": [
              "'went eat sushi dinner bottomline best eat sushi calgary cost per person sushi sashimi deluxe menu includes oyster tataki went little overboard ordering roll to point waiter asked sure finish haha regretted shortly after charge unfinished food little stressful haha ordered mango dragon roll prawn tempura avacado mango philadelphia roll spicy salmon roll beef udon miso soup salmon tuna sashimi salmon rose prawn tempura favourite spicy salmon mango dragon roll love tempura personally bit soggy room dessert food cant comment haha'"
            ]
          },
          "metadata": {
            "tags": []
          },
          "execution_count": 36
        }
      ]
    },
    {
      "cell_type": "code",
      "metadata": {
        "id": "nDpT4QsShuaX",
        "colab": {
          "base_uri": "https://localhost:8080/",
          "height": 88
        },
        "outputId": "d4ce3820-6761-4d78-a331-25ee196f3b00"
      },
      "source": [
        "label_data['text'][0]"
      ],
      "execution_count": null,
      "outputs": [
        {
          "output_type": "execute_result",
          "data": {
            "application/vnd.google.colaboratory.intrinsic+json": {
              "type": "string"
            },
            "text/plain": [
              "'went eat sushi dinner bottomline best eat sushi calgary costs per person sushi sashimi deluxe menu includes oysters tataki went little overboard ordering rolls to point waiter asked sure finish haha regretted shortly after charge unfinished food little stressful haha ordered mango dragon roll prawn tempura avacado mango philadelphia roll spicy salmon roll beef udon miso soup salmon tuna sashimi salmon rose prawn tempura favourites spicy salmon mango dragon roll love tempura personally bit soggy room dessert food cant comment haha'"
            ]
          },
          "metadata": {
            "tags": []
          },
          "execution_count": 37
        }
      ]
    },
    {
      "cell_type": "code",
      "metadata": {
        "id": "h4WUDU4KfmZb"
      },
      "source": [
        "#stemming\n",
        "from nltk.stem.porter import PorterStemmer\n",
        "\n",
        "stemmer = PorterStemmer()\n",
        "\n",
        "label_data[\"stem_text\"] = label_data[\"text\"].apply(lambda text: \" \".join([stemmer.stem(word) for word in text.split()]))"
      ],
      "execution_count": null,
      "outputs": []
    },
    {
      "cell_type": "code",
      "metadata": {
        "id": "suEAs849fmWm",
        "colab": {
          "base_uri": "https://localhost:8080/",
          "height": 71
        },
        "outputId": "e9a0c34b-31a5-41a2-d3ca-61fceae97cc3"
      },
      "source": [
        "label_data['stem_text'][0]"
      ],
      "execution_count": null,
      "outputs": [
        {
          "output_type": "execute_result",
          "data": {
            "application/vnd.google.colaboratory.intrinsic+json": {
              "type": "string"
            },
            "text/plain": [
              "'went eat sushi dinner bottomlin best eat sushi calgari cost per person sushi sashimi delux menu includ oyster tataki went littl overboard order roll to point waiter ask sure finish haha regret shortli after charg unfinish food littl stress haha order mango dragon roll prawn tempura avacado mango philadelphia roll spici salmon roll beef udon miso soup salmon tuna sashimi salmon rose prawn tempura favourit spici salmon mango dragon roll love tempura person bit soggi room dessert food cant comment haha'"
            ]
          },
          "metadata": {
            "tags": []
          },
          "execution_count": 39
        }
      ]
    },
    {
      "cell_type": "markdown",
      "metadata": {
        "id": "GzLyTGSXbqgY"
      },
      "source": [
        "## Split train and test dataset"
      ]
    },
    {
      "cell_type": "code",
      "metadata": {
        "id": "XIXla_LXb2Co",
        "colab": {
          "base_uri": "https://localhost:8080/"
        },
        "outputId": "8038f447-8795-48b4-e375-e5f533614692"
      },
      "source": [
        "X=label_data[\"text\"]\n",
        "X.head(5)"
      ],
      "execution_count": null,
      "outputs": [
        {
          "output_type": "execute_result",
          "data": {
            "text/plain": [
              "0    went eat sushi dinner bottomline best eat sush...\n",
              "1    service okay present menu particularly eat sus...\n",
              "2    went weekend lunch foodservice fantastic never...\n",
              "3    ive eaten twice im really impressed get lot pr...\n",
              "4    good groups came tonight birthday dinner group...\n",
              "Name: text, dtype: object"
            ]
          },
          "metadata": {
            "tags": []
          },
          "execution_count": 40
        }
      ]
    },
    {
      "cell_type": "code",
      "metadata": {
        "id": "0xbSTWYE25tW",
        "colab": {
          "base_uri": "https://localhost:8080/"
        },
        "outputId": "619da0ab-c9c5-46a3-c64d-5a7ff578382a"
      },
      "source": [
        "y=label_data[\"polarity\"]\n",
        "y.head(5)"
      ],
      "execution_count": null,
      "outputs": [
        {
          "output_type": "execute_result",
          "data": {
            "text/plain": [
              "0    0\n",
              "1    0\n",
              "2    1\n",
              "3    1\n",
              "4    0\n",
              "Name: polarity, dtype: int64"
            ]
          },
          "metadata": {
            "tags": []
          },
          "execution_count": 41
        }
      ]
    },
    {
      "cell_type": "code",
      "metadata": {
        "id": "Q3tXMsnGbudX"
      },
      "source": [
        "from sklearn.model_selection import train_test_split\n",
        "X_train,X_test,y_train,y_test=train_test_split(X,y,test_size=0.3,random_state=1)"
      ],
      "execution_count": null,
      "outputs": []
    },
    {
      "cell_type": "markdown",
      "metadata": {
        "id": "_9aJIqunsEk_"
      },
      "source": [
        "## Tokenizer + Pad Sequence"
      ]
    },
    {
      "cell_type": "code",
      "metadata": {
        "id": "ggVhaFyEfmB_"
      },
      "source": [
        "from keras.preprocessing.text import Tokenizer\n",
        "# Number of words to consider as features\n",
        "# restrict the yelp reviews to the top 10000 most common words\n",
        "max_features=10000\n",
        "# Tokenize the sentences\n",
        "tokenizer = Tokenizer(num_words=max_features)\n",
        "tokenizer.fit_on_texts(list(X_train)+list(X_test))\n",
        "X_train = tokenizer.texts_to_sequences(X_train)\n",
        "X_test = tokenizer.texts_to_sequences(X_test)"
      ],
      "execution_count": null,
      "outputs": []
    },
    {
      "cell_type": "code",
      "metadata": {
        "id": "jw360Xz9fl98"
      },
      "source": [
        "from keras.preprocessing.sequence import pad_sequences\n",
        "# cut reviews after 200 words\n",
        "maxlen=200\n",
        "X_train=pad_sequences(X_train,maxlen=maxlen) #training data contains a list of list of numbers \n",
        "X_test=pad_sequences(X_test,maxlen=maxlen) #each list has the same numbers "
      ],
      "execution_count": null,
      "outputs": []
    },
    {
      "cell_type": "code",
      "metadata": {
        "id": "cNzTx1Tifl56",
        "colab": {
          "base_uri": "https://localhost:8080/"
        },
        "outputId": "753ad117-f816-418c-f737-b32435fcc726"
      },
      "source": [
        "print(\"X_train\",X_train.shape)\n",
        "print(\"y_train\",y_train.shape)"
      ],
      "execution_count": null,
      "outputs": [
        {
          "output_type": "stream",
          "text": [
            "X_train (11738, 200)\n",
            "y_train (11738,)\n"
          ],
          "name": "stdout"
        }
      ]
    },
    {
      "cell_type": "code",
      "metadata": {
        "id": "9EPrT66dfl3Q",
        "colab": {
          "base_uri": "https://localhost:8080/"
        },
        "outputId": "ab344b54-b826-449b-bc64-839437b82f74"
      },
      "source": [
        "print(\"X_test\",X_test.shape)\n",
        "print(\"y_test\",y_test.shape)"
      ],
      "execution_count": null,
      "outputs": [
        {
          "output_type": "stream",
          "text": [
            "X_test (5031, 200)\n",
            "y_test (5031,)\n"
          ],
          "name": "stdout"
        }
      ]
    },
    {
      "cell_type": "code",
      "metadata": {
        "id": "xgYKodg9x_OT"
      },
      "source": [
        ""
      ],
      "execution_count": null,
      "outputs": []
    },
    {
      "cell_type": "markdown",
      "metadata": {
        "id": "M8kvJ5sjKK3N"
      },
      "source": [
        ""
      ]
    },
    {
      "cell_type": "code",
      "metadata": {
        "id": "3phnEhYD8AgG"
      },
      "source": [
        ""
      ],
      "execution_count": null,
      "outputs": []
    }
  ]
}